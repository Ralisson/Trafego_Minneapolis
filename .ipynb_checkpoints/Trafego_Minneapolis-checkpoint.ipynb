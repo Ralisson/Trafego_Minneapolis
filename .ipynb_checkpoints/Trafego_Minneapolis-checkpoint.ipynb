{
 "cells": [
  {
   "cell_type": "markdown",
   "metadata": {},
   "source": [
    "> # Análise de Tráfego em Minneapolis\n",
    "\n",
    "\n",
    "> ###### Rálisson Araújo Ribeiro"
   ]
  },
  {
   "cell_type": "markdown",
   "metadata": {},
   "source": [
    "> ###### Este estudo é sobre o volume de tráfego na rodovia Interstadual 94 que fica em Minneapolis que foi disponibilizado em um dataset de estudo do UCI - Machine Learning Repository\n",
    "\n",
    "> ###### https://archive.ics.uci.edu/ml/datasets/Metro+Interstate+Traffic+Volume\n",
    "\n",
    "https://www.google.com.br/maps/place/Interstate+94+%26+Huron+Transit+Station/@44.9640118,-93.963515,7.37z/data=!4m5!3m4!1s0x52b32d26dd6b4607:0x21dca55c372bfdc1!8m2!3d44.96756!4d-93.222691"
   ]
  },
  {
   "cell_type": "markdown",
   "metadata": {},
   "source": [
    "> ##### Instalando pacotes e bibliotecas"
   ]
  },
  {
   "cell_type": "code",
   "execution_count": 1,
   "metadata": {},
   "outputs": [
    {
     "name": "stdout",
     "output_type": "stream",
     "text": [
      "package 'dplyr' successfully unpacked and MD5 sums checked\n",
      "\n",
      "The downloaded binary packages are in\n",
      "\tC:\\Users\\ralis\\AppData\\Local\\Temp\\Rtmpu063wY\\downloaded_packages\n"
     ]
    },
    {
     "name": "stderr",
     "output_type": "stream",
     "text": [
      "Warning message:\n",
      "\"package 'readyr' is not available (for R version 3.6.1)\""
     ]
    },
    {
     "name": "stdout",
     "output_type": "stream",
     "text": [
      "package 'lubridate' successfully unpacked and MD5 sums checked\n",
      "\n",
      "The downloaded binary packages are in\n",
      "\tC:\\Users\\ralis\\AppData\\Local\\Temp\\Rtmpu063wY\\downloaded_packages\n",
      "package 'ggplot2' successfully unpacked and MD5 sums checked\n",
      "\n",
      "The downloaded binary packages are in\n",
      "\tC:\\Users\\ralis\\AppData\\Local\\Temp\\Rtmpu063wY\\downloaded_packages\n",
      "package 'TSstudio' successfully unpacked and MD5 sums checked\n",
      "\n",
      "The downloaded binary packages are in\n",
      "\tC:\\Users\\ralis\\AppData\\Local\\Temp\\Rtmpu063wY\\downloaded_packages\n"
     ]
    }
   ],
   "source": [
    "install.packages(\"dplyr\")\n",
    "install.packages(\"readyr\")\n",
    "install.packages(\"lubridate\")\n",
    "install.packages(\"ggplot2\")\n",
    "install.packages(\"TSstudio\")"
   ]
  },
  {
   "cell_type": "code",
   "execution_count": 3,
   "metadata": {},
   "outputs": [
    {
     "name": "stderr",
     "output_type": "stream",
     "text": [
      "Warning message:\n",
      "\"package 'dplyr' was built under R version 3.6.3\"\n",
      "Attaching package: 'dplyr'\n",
      "\n",
      "The following objects are masked from 'package:stats':\n",
      "\n",
      "    filter, lag\n",
      "\n",
      "The following objects are masked from 'package:base':\n",
      "\n",
      "    intersect, setdiff, setequal, union\n",
      "\n",
      "Warning message:\n",
      "\"package 'readr' was built under R version 3.6.3\"Warning message:\n",
      "\"package 'lubridate' was built under R version 3.6.3\"\n",
      "Attaching package: 'lubridate'\n",
      "\n",
      "The following objects are masked from 'package:base':\n",
      "\n",
      "    date, intersect, setdiff, union\n",
      "\n",
      "Warning message:\n",
      "\"package 'ggplot2' was built under R version 3.6.3\"Warning message:\n",
      "\"package 'TSstudio' was built under R version 3.6.3\""
     ]
    }
   ],
   "source": [
    "library(dplyr)\n",
    "library(readr)\n",
    "library(lubridate)\n",
    "library(ggplot2)\n",
    "library(TSstudio)"
   ]
  },
  {
   "cell_type": "markdown",
   "metadata": {},
   "source": [
    "> #### Analise exploratória de dados"
   ]
  },
  {
   "cell_type": "code",
   "execution_count": 4,
   "metadata": {},
   "outputs": [
    {
     "name": "stderr",
     "output_type": "stream",
     "text": [
      "Parsed with column specification:\n",
      "cols(\n",
      "  holiday = col_character(),\n",
      "  temp = col_double(),\n",
      "  rain_1h = col_double(),\n",
      "  snow_1h = col_double(),\n",
      "  clouds_all = col_double(),\n",
      "  weather_main = col_character(),\n",
      "  weather_description = col_character(),\n",
      "  date_time = col_datetime(format = \"\"),\n",
      "  traffic_volume = col_double()\n",
      ")\n"
     ]
    },
    {
     "data": {
      "text/html": [
       "<table>\n",
       "<thead><tr><th scope=col>holiday</th><th scope=col>temp</th><th scope=col>rain_1h</th><th scope=col>snow_1h</th><th scope=col>clouds_all</th><th scope=col>weather_main</th><th scope=col>weather_description</th><th scope=col>date_time</th><th scope=col>traffic_volume</th></tr></thead>\n",
       "<tbody>\n",
       "\t<tr><td>None               </td><td>288.28             </td><td>0                  </td><td>0                  </td><td>40                 </td><td>Clouds             </td><td>scattered clouds   </td><td>2012-10-02 09:00:00</td><td>5545               </td></tr>\n",
       "\t<tr><td>None               </td><td>289.36             </td><td>0                  </td><td>0                  </td><td>75                 </td><td>Clouds             </td><td>broken clouds      </td><td>2012-10-02 10:00:00</td><td>4516               </td></tr>\n",
       "\t<tr><td>None               </td><td>289.58             </td><td>0                  </td><td>0                  </td><td>90                 </td><td>Clouds             </td><td>overcast clouds    </td><td>2012-10-02 11:00:00</td><td>4767               </td></tr>\n",
       "\t<tr><td>None               </td><td>290.13             </td><td>0                  </td><td>0                  </td><td>90                 </td><td>Clouds             </td><td>overcast clouds    </td><td>2012-10-02 12:00:00</td><td>5026               </td></tr>\n",
       "\t<tr><td>None               </td><td>291.14             </td><td>0                  </td><td>0                  </td><td>75                 </td><td>Clouds             </td><td>broken clouds      </td><td>2012-10-02 13:00:00</td><td>4918               </td></tr>\n",
       "\t<tr><td>None               </td><td>291.72             </td><td>0                  </td><td>0                  </td><td> 1                 </td><td>Clear              </td><td>sky is clear       </td><td>2012-10-02 14:00:00</td><td>5181               </td></tr>\n",
       "</tbody>\n",
       "</table>\n"
      ],
      "text/latex": [
       "\\begin{tabular}{r|lllllllll}\n",
       " holiday & temp & rain\\_1h & snow\\_1h & clouds\\_all & weather\\_main & weather\\_description & date\\_time & traffic\\_volume\\\\\n",
       "\\hline\n",
       "\t None                & 288.28              & 0                   & 0                   & 40                  & Clouds              & scattered clouds    & 2012-10-02 09:00:00 & 5545               \\\\\n",
       "\t None                & 289.36              & 0                   & 0                   & 75                  & Clouds              & broken clouds       & 2012-10-02 10:00:00 & 4516               \\\\\n",
       "\t None                & 289.58              & 0                   & 0                   & 90                  & Clouds              & overcast clouds     & 2012-10-02 11:00:00 & 4767               \\\\\n",
       "\t None                & 290.13              & 0                   & 0                   & 90                  & Clouds              & overcast clouds     & 2012-10-02 12:00:00 & 5026               \\\\\n",
       "\t None                & 291.14              & 0                   & 0                   & 75                  & Clouds              & broken clouds       & 2012-10-02 13:00:00 & 4918               \\\\\n",
       "\t None                & 291.72              & 0                   & 0                   &  1                  & Clear               & sky is clear        & 2012-10-02 14:00:00 & 5181               \\\\\n",
       "\\end{tabular}\n"
      ],
      "text/markdown": [
       "\n",
       "| holiday | temp | rain_1h | snow_1h | clouds_all | weather_main | weather_description | date_time | traffic_volume |\n",
       "|---|---|---|---|---|---|---|---|---|\n",
       "| None                | 288.28              | 0                   | 0                   | 40                  | Clouds              | scattered clouds    | 2012-10-02 09:00:00 | 5545                |\n",
       "| None                | 289.36              | 0                   | 0                   | 75                  | Clouds              | broken clouds       | 2012-10-02 10:00:00 | 4516                |\n",
       "| None                | 289.58              | 0                   | 0                   | 90                  | Clouds              | overcast clouds     | 2012-10-02 11:00:00 | 4767                |\n",
       "| None                | 290.13              | 0                   | 0                   | 90                  | Clouds              | overcast clouds     | 2012-10-02 12:00:00 | 5026                |\n",
       "| None                | 291.14              | 0                   | 0                   | 75                  | Clouds              | broken clouds       | 2012-10-02 13:00:00 | 4918                |\n",
       "| None                | 291.72              | 0                   | 0                   |  1                  | Clear               | sky is clear        | 2012-10-02 14:00:00 | 5181                |\n",
       "\n"
      ],
      "text/plain": [
       "  holiday temp   rain_1h snow_1h clouds_all weather_main weather_description\n",
       "1 None    288.28 0       0       40         Clouds       scattered clouds   \n",
       "2 None    289.36 0       0       75         Clouds       broken clouds      \n",
       "3 None    289.58 0       0       90         Clouds       overcast clouds    \n",
       "4 None    290.13 0       0       90         Clouds       overcast clouds    \n",
       "5 None    291.14 0       0       75         Clouds       broken clouds      \n",
       "6 None    291.72 0       0        1         Clear        sky is clear       \n",
       "  date_time           traffic_volume\n",
       "1 2012-10-02 09:00:00 5545          \n",
       "2 2012-10-02 10:00:00 4516          \n",
       "3 2012-10-02 11:00:00 4767          \n",
       "4 2012-10-02 12:00:00 5026          \n",
       "5 2012-10-02 13:00:00 4918          \n",
       "6 2012-10-02 14:00:00 5181          "
      ]
     },
     "metadata": {},
     "output_type": "display_data"
    },
    {
     "data": {
      "text/html": [
       "<ol class=list-inline>\n",
       "\t<li>'spec_tbl_df'</li>\n",
       "\t<li>'tbl_df'</li>\n",
       "\t<li>'tbl'</li>\n",
       "\t<li>'data.frame'</li>\n",
       "</ol>\n"
      ],
      "text/latex": [
       "\\begin{enumerate*}\n",
       "\\item 'spec\\_tbl\\_df'\n",
       "\\item 'tbl\\_df'\n",
       "\\item 'tbl'\n",
       "\\item 'data.frame'\n",
       "\\end{enumerate*}\n"
      ],
      "text/markdown": [
       "1. 'spec_tbl_df'\n",
       "2. 'tbl_df'\n",
       "3. 'tbl'\n",
       "4. 'data.frame'\n",
       "\n",
       "\n"
      ],
      "text/plain": [
       "[1] \"spec_tbl_df\" \"tbl_df\"      \"tbl\"         \"data.frame\" "
      ]
     },
     "metadata": {},
     "output_type": "display_data"
    }
   ],
   "source": [
    "base <- read_csv('Metro_Interstate_Traffic_Volume.csv')\n",
    "head(base)\n",
    "class(base)"
   ]
  },
  {
   "cell_type": "code",
   "execution_count": 5,
   "metadata": {},
   "outputs": [
    {
     "data": {
      "text/html": [
       "<table>\n",
       "<thead><tr><th scope=col>holiday</th><th scope=col>temp</th><th scope=col>rain_1h</th><th scope=col>snow_1h</th><th scope=col>clouds_all</th><th scope=col>weather_main</th><th scope=col>weather_description</th><th scope=col>date_time</th><th scope=col>traffic_volume</th></tr></thead>\n",
       "<tbody>\n",
       "\t<tr><td>None               </td><td>288.28             </td><td>0                  </td><td>0                  </td><td>40                 </td><td>Clouds             </td><td>scattered clouds   </td><td>2012-10-02 09:00:00</td><td>5545               </td></tr>\n",
       "\t<tr><td>None               </td><td>289.36             </td><td>0                  </td><td>0                  </td><td>75                 </td><td>Clouds             </td><td>broken clouds      </td><td>2012-10-02 10:00:00</td><td>4516               </td></tr>\n",
       "\t<tr><td>None               </td><td>289.58             </td><td>0                  </td><td>0                  </td><td>90                 </td><td>Clouds             </td><td>overcast clouds    </td><td>2012-10-02 11:00:00</td><td>4767               </td></tr>\n",
       "\t<tr><td>None               </td><td>290.13             </td><td>0                  </td><td>0                  </td><td>90                 </td><td>Clouds             </td><td>overcast clouds    </td><td>2012-10-02 12:00:00</td><td>5026               </td></tr>\n",
       "\t<tr><td>None               </td><td>291.14             </td><td>0                  </td><td>0                  </td><td>75                 </td><td>Clouds             </td><td>broken clouds      </td><td>2012-10-02 13:00:00</td><td>4918               </td></tr>\n",
       "\t<tr><td>None               </td><td>291.72             </td><td>0                  </td><td>0                  </td><td> 1                 </td><td>Clear              </td><td>sky is clear       </td><td>2012-10-02 14:00:00</td><td>5181               </td></tr>\n",
       "</tbody>\n",
       "</table>\n"
      ],
      "text/latex": [
       "\\begin{tabular}{r|lllllllll}\n",
       " holiday & temp & rain\\_1h & snow\\_1h & clouds\\_all & weather\\_main & weather\\_description & date\\_time & traffic\\_volume\\\\\n",
       "\\hline\n",
       "\t None                & 288.28              & 0                   & 0                   & 40                  & Clouds              & scattered clouds    & 2012-10-02 09:00:00 & 5545               \\\\\n",
       "\t None                & 289.36              & 0                   & 0                   & 75                  & Clouds              & broken clouds       & 2012-10-02 10:00:00 & 4516               \\\\\n",
       "\t None                & 289.58              & 0                   & 0                   & 90                  & Clouds              & overcast clouds     & 2012-10-02 11:00:00 & 4767               \\\\\n",
       "\t None                & 290.13              & 0                   & 0                   & 90                  & Clouds              & overcast clouds     & 2012-10-02 12:00:00 & 5026               \\\\\n",
       "\t None                & 291.14              & 0                   & 0                   & 75                  & Clouds              & broken clouds       & 2012-10-02 13:00:00 & 4918               \\\\\n",
       "\t None                & 291.72              & 0                   & 0                   &  1                  & Clear               & sky is clear        & 2012-10-02 14:00:00 & 5181               \\\\\n",
       "\\end{tabular}\n"
      ],
      "text/markdown": [
       "\n",
       "| holiday | temp | rain_1h | snow_1h | clouds_all | weather_main | weather_description | date_time | traffic_volume |\n",
       "|---|---|---|---|---|---|---|---|---|\n",
       "| None                | 288.28              | 0                   | 0                   | 40                  | Clouds              | scattered clouds    | 2012-10-02 09:00:00 | 5545                |\n",
       "| None                | 289.36              | 0                   | 0                   | 75                  | Clouds              | broken clouds       | 2012-10-02 10:00:00 | 4516                |\n",
       "| None                | 289.58              | 0                   | 0                   | 90                  | Clouds              | overcast clouds     | 2012-10-02 11:00:00 | 4767                |\n",
       "| None                | 290.13              | 0                   | 0                   | 90                  | Clouds              | overcast clouds     | 2012-10-02 12:00:00 | 5026                |\n",
       "| None                | 291.14              | 0                   | 0                   | 75                  | Clouds              | broken clouds       | 2012-10-02 13:00:00 | 4918                |\n",
       "| None                | 291.72              | 0                   | 0                   |  1                  | Clear               | sky is clear        | 2012-10-02 14:00:00 | 5181                |\n",
       "\n"
      ],
      "text/plain": [
       "  holiday temp   rain_1h snow_1h clouds_all weather_main weather_description\n",
       "1 None    288.28 0       0       40         Clouds       scattered clouds   \n",
       "2 None    289.36 0       0       75         Clouds       broken clouds      \n",
       "3 None    289.58 0       0       90         Clouds       overcast clouds    \n",
       "4 None    290.13 0       0       90         Clouds       overcast clouds    \n",
       "5 None    291.14 0       0       75         Clouds       broken clouds      \n",
       "6 None    291.72 0       0        1         Clear        sky is clear       \n",
       "  date_time           traffic_volume\n",
       "1 2012-10-02 09:00:00 5545          \n",
       "2 2012-10-02 10:00:00 4516          \n",
       "3 2012-10-02 11:00:00 4767          \n",
       "4 2012-10-02 12:00:00 5026          \n",
       "5 2012-10-02 13:00:00 4918          \n",
       "6 2012-10-02 14:00:00 5181          "
      ]
     },
     "metadata": {},
     "output_type": "display_data"
    }
   ],
   "source": [
    "dados <-base\n",
    "head(dados)"
   ]
  },
  {
   "cell_type": "code",
   "execution_count": 6,
   "metadata": {},
   "outputs": [
    {
     "data": {
      "text/html": [
       "<ol class=list-inline>\n",
       "\t<li>'tbl_df'</li>\n",
       "\t<li>'tbl'</li>\n",
       "\t<li>'data.frame'</li>\n",
       "</ol>\n"
      ],
      "text/latex": [
       "\\begin{enumerate*}\n",
       "\\item 'tbl\\_df'\n",
       "\\item 'tbl'\n",
       "\\item 'data.frame'\n",
       "\\end{enumerate*}\n"
      ],
      "text/markdown": [
       "1. 'tbl_df'\n",
       "2. 'tbl'\n",
       "3. 'data.frame'\n",
       "\n",
       "\n"
      ],
      "text/plain": [
       "[1] \"tbl_df\"     \"tbl\"        \"data.frame\""
      ]
     },
     "metadata": {},
     "output_type": "display_data"
    },
    {
     "data": {
      "text/html": [
       "<table>\n",
       "<thead><tr><th scope=col>date_time</th><th scope=col>traffic_volume</th><th scope=col>holiday</th></tr></thead>\n",
       "<tbody>\n",
       "\t<tr><td>2012-10-02 09:00:00</td><td>5545               </td><td>None               </td></tr>\n",
       "\t<tr><td>2012-10-02 10:00:00</td><td>4516               </td><td>None               </td></tr>\n",
       "\t<tr><td>2012-10-02 11:00:00</td><td>4767               </td><td>None               </td></tr>\n",
       "\t<tr><td>2012-10-02 12:00:00</td><td>5026               </td><td>None               </td></tr>\n",
       "\t<tr><td>2012-10-02 13:00:00</td><td>4918               </td><td>None               </td></tr>\n",
       "\t<tr><td>2012-10-02 14:00:00</td><td>5181               </td><td>None               </td></tr>\n",
       "</tbody>\n",
       "</table>\n"
      ],
      "text/latex": [
       "\\begin{tabular}{r|lll}\n",
       " date\\_time & traffic\\_volume & holiday\\\\\n",
       "\\hline\n",
       "\t 2012-10-02 09:00:00 & 5545                & None               \\\\\n",
       "\t 2012-10-02 10:00:00 & 4516                & None               \\\\\n",
       "\t 2012-10-02 11:00:00 & 4767                & None               \\\\\n",
       "\t 2012-10-02 12:00:00 & 5026                & None               \\\\\n",
       "\t 2012-10-02 13:00:00 & 4918                & None               \\\\\n",
       "\t 2012-10-02 14:00:00 & 5181                & None               \\\\\n",
       "\\end{tabular}\n"
      ],
      "text/markdown": [
       "\n",
       "| date_time | traffic_volume | holiday |\n",
       "|---|---|---|\n",
       "| 2012-10-02 09:00:00 | 5545                | None                |\n",
       "| 2012-10-02 10:00:00 | 4516                | None                |\n",
       "| 2012-10-02 11:00:00 | 4767                | None                |\n",
       "| 2012-10-02 12:00:00 | 5026                | None                |\n",
       "| 2012-10-02 13:00:00 | 4918                | None                |\n",
       "| 2012-10-02 14:00:00 | 5181                | None                |\n",
       "\n"
      ],
      "text/plain": [
       "  date_time           traffic_volume holiday\n",
       "1 2012-10-02 09:00:00 5545           None   \n",
       "2 2012-10-02 10:00:00 4516           None   \n",
       "3 2012-10-02 11:00:00 4767           None   \n",
       "4 2012-10-02 12:00:00 5026           None   \n",
       "5 2012-10-02 13:00:00 4918           None   \n",
       "6 2012-10-02 14:00:00 5181           None   "
      ]
     },
     "metadata": {},
     "output_type": "display_data"
    }
   ],
   "source": [
    "dados <- select(base,'date_time', 'traffic_volume','holiday' )\n",
    "\n",
    "class(dados)\n",
    "head(dados)"
   ]
  },
  {
   "cell_type": "code",
   "execution_count": 7,
   "metadata": {},
   "outputs": [
    {
     "data": {
      "text/html": [
       "<table>\n",
       "<thead><tr><th scope=col>date_time</th><th scope=col>traffic_volume</th><th scope=col>holiday</th><th scope=col>ano</th><th scope=col>mes</th><th scope=col>dia</th><th scope=col>hora</th><th scope=col>semana</th><th scope=col>data</th><th scope=col>dia_da_semana</th></tr></thead>\n",
       "<tbody>\n",
       "\t<tr><td>2012-10-02 09:00:00</td><td>5545               </td><td>Nao_feriado        </td><td>2012               </td><td>out                </td><td>2                  </td><td>9                  </td><td>40                 </td><td>2012-10-02         </td><td>ter                </td></tr>\n",
       "\t<tr><td>2012-10-02 10:00:00</td><td>4516               </td><td>Nao_feriado        </td><td>2012               </td><td>out                </td><td>2                  </td><td>10                 </td><td>40                 </td><td>2012-10-02         </td><td>ter                </td></tr>\n",
       "\t<tr><td>2012-10-02 11:00:00</td><td>4767               </td><td>Nao_feriado        </td><td>2012               </td><td>out                </td><td>2                  </td><td>11                 </td><td>40                 </td><td>2012-10-02         </td><td>ter                </td></tr>\n",
       "\t<tr><td>2012-10-02 12:00:00</td><td>5026               </td><td>Nao_feriado        </td><td>2012               </td><td>out                </td><td>2                  </td><td>12                 </td><td>40                 </td><td>2012-10-02         </td><td>ter                </td></tr>\n",
       "\t<tr><td>2012-10-02 13:00:00</td><td>4918               </td><td>Nao_feriado        </td><td>2012               </td><td>out                </td><td>2                  </td><td>13                 </td><td>40                 </td><td>2012-10-02         </td><td>ter                </td></tr>\n",
       "\t<tr><td>2012-10-02 14:00:00</td><td>5181               </td><td>Nao_feriado        </td><td>2012               </td><td>out                </td><td>2                  </td><td>14                 </td><td>40                 </td><td>2012-10-02         </td><td>ter                </td></tr>\n",
       "</tbody>\n",
       "</table>\n"
      ],
      "text/latex": [
       "\\begin{tabular}{r|llllllllll}\n",
       " date\\_time & traffic\\_volume & holiday & ano & mes & dia & hora & semana & data & dia\\_da\\_semana\\\\\n",
       "\\hline\n",
       "\t 2012-10-02 09:00:00 & 5545                & Nao\\_feriado       & 2012                & out                 & 2                   & 9                   & 40                  & 2012-10-02          & ter                \\\\\n",
       "\t 2012-10-02 10:00:00 & 4516                & Nao\\_feriado       & 2012                & out                 & 2                   & 10                  & 40                  & 2012-10-02          & ter                \\\\\n",
       "\t 2012-10-02 11:00:00 & 4767                & Nao\\_feriado       & 2012                & out                 & 2                   & 11                  & 40                  & 2012-10-02          & ter                \\\\\n",
       "\t 2012-10-02 12:00:00 & 5026                & Nao\\_feriado       & 2012                & out                 & 2                   & 12                  & 40                  & 2012-10-02          & ter                \\\\\n",
       "\t 2012-10-02 13:00:00 & 4918                & Nao\\_feriado       & 2012                & out                 & 2                   & 13                  & 40                  & 2012-10-02          & ter                \\\\\n",
       "\t 2012-10-02 14:00:00 & 5181                & Nao\\_feriado       & 2012                & out                 & 2                   & 14                  & 40                  & 2012-10-02          & ter                \\\\\n",
       "\\end{tabular}\n"
      ],
      "text/markdown": [
       "\n",
       "| date_time | traffic_volume | holiday | ano | mes | dia | hora | semana | data | dia_da_semana |\n",
       "|---|---|---|---|---|---|---|---|---|---|\n",
       "| 2012-10-02 09:00:00 | 5545                | Nao_feriado         | 2012                | out                 | 2                   | 9                   | 40                  | 2012-10-02          | ter                 |\n",
       "| 2012-10-02 10:00:00 | 4516                | Nao_feriado         | 2012                | out                 | 2                   | 10                  | 40                  | 2012-10-02          | ter                 |\n",
       "| 2012-10-02 11:00:00 | 4767                | Nao_feriado         | 2012                | out                 | 2                   | 11                  | 40                  | 2012-10-02          | ter                 |\n",
       "| 2012-10-02 12:00:00 | 5026                | Nao_feriado         | 2012                | out                 | 2                   | 12                  | 40                  | 2012-10-02          | ter                 |\n",
       "| 2012-10-02 13:00:00 | 4918                | Nao_feriado         | 2012                | out                 | 2                   | 13                  | 40                  | 2012-10-02          | ter                 |\n",
       "| 2012-10-02 14:00:00 | 5181                | Nao_feriado         | 2012                | out                 | 2                   | 14                  | 40                  | 2012-10-02          | ter                 |\n",
       "\n"
      ],
      "text/plain": [
       "  date_time           traffic_volume holiday     ano  mes dia hora semana\n",
       "1 2012-10-02 09:00:00 5545           Nao_feriado 2012 out 2   9    40    \n",
       "2 2012-10-02 10:00:00 4516           Nao_feriado 2012 out 2   10   40    \n",
       "3 2012-10-02 11:00:00 4767           Nao_feriado 2012 out 2   11   40    \n",
       "4 2012-10-02 12:00:00 5026           Nao_feriado 2012 out 2   12   40    \n",
       "5 2012-10-02 13:00:00 4918           Nao_feriado 2012 out 2   13   40    \n",
       "6 2012-10-02 14:00:00 5181           Nao_feriado 2012 out 2   14   40    \n",
       "  data       dia_da_semana\n",
       "1 2012-10-02 ter          \n",
       "2 2012-10-02 ter          \n",
       "3 2012-10-02 ter          \n",
       "4 2012-10-02 ter          \n",
       "5 2012-10-02 ter          \n",
       "6 2012-10-02 ter          "
      ]
     },
     "metadata": {},
     "output_type": "display_data"
    },
    {
     "name": "stdout",
     "output_type": "stream",
     "text": [
      "tibble [48,204 x 10] (S3: tbl_df/tbl/data.frame)\n",
      " $ date_time     : POSIXct[1:48204], format: \"2012-10-02 09:00:00\" \"2012-10-02 10:00:00\" ...\n",
      " $ traffic_volume: num [1:48204] 5545 4516 4767 5026 4918 ...\n",
      " $ holiday       : chr [1:48204] \"Nao_feriado\" \"Nao_feriado\" \"Nao_feriado\" \"Nao_feriado\" ...\n",
      " $ ano           : num [1:48204] 2012 2012 2012 2012 2012 ...\n",
      " $ mes           : Ord.factor w/ 12 levels \"jan\"<\"fev\"<\"mar\"<..: 10 10 10 10 10 10 10 10 10 10 ...\n",
      " $ dia           : int [1:48204] 2 2 2 2 2 2 2 2 2 2 ...\n",
      " $ hora          : Factor w/ 24 levels \"0\",\"1\",\"2\",\"3\",..: 10 11 12 13 14 15 16 17 18 19 ...\n",
      " $ semana        : num [1:48204] 40 40 40 40 40 40 40 40 40 40 ...\n",
      " $ data          : Date[1:48204], format: \"2012-10-02\" \"2012-10-02\" ...\n",
      " $ dia_da_semana : Ord.factor w/ 7 levels \"dom\"<\"seg\"<\"ter\"<..: 3 3 3 3 3 3 3 3 3 3 ...\n"
     ]
    }
   ],
   "source": [
    "dados$ano <-year(dados$date_time)\n",
    "dados$mes <-as.factor(month(dados$date_time,  label = TRUE))\n",
    "dados$dia <-day(dados$date_time)\n",
    "dados$hora <-as.factor(hour(dados$date_time))\n",
    "dados$semana <-week(dados$date_time)\n",
    "dados$data <- date(dados$date_time)\n",
    "dados$dia_da_semana <- as.factor(wday(dados$date_time, label = TRUE))\n",
    "dados$holiday <- ifelse(dados$holiday ==\"None\", \"Nao_feriado\", \"Feriado\")\n",
    "\n",
    "head(dados)\n",
    "str(dados)"
   ]
  },
  {
   "cell_type": "code",
   "execution_count": 8,
   "metadata": {},
   "outputs": [
    {
     "data": {
      "text/html": [
       "<table>\n",
       "<thead><tr><th scope=col>date_time</th><th scope=col>traffic_volume</th><th scope=col>holiday</th><th scope=col>ano</th><th scope=col>mes</th><th scope=col>dia</th><th scope=col>hora</th><th scope=col>semana</th><th scope=col>data</th><th scope=col>dia_da_semana</th></tr></thead>\n",
       "<tbody>\n",
       "\t<tr><td>2012-10-02 09:00:00</td><td>5545               </td><td>Nao_feriado        </td><td>2012               </td><td>out                </td><td>2                  </td><td>9                  </td><td>40                 </td><td>2012-10-02         </td><td>ter                </td></tr>\n",
       "\t<tr><td>2012-10-02 10:00:00</td><td>4516               </td><td>Nao_feriado        </td><td>2012               </td><td>out                </td><td>2                  </td><td>10                 </td><td>40                 </td><td>2012-10-02         </td><td>ter                </td></tr>\n",
       "\t<tr><td>2012-10-02 11:00:00</td><td>4767               </td><td>Nao_feriado        </td><td>2012               </td><td>out                </td><td>2                  </td><td>11                 </td><td>40                 </td><td>2012-10-02         </td><td>ter                </td></tr>\n",
       "\t<tr><td>2012-10-02 12:00:00</td><td>5026               </td><td>Nao_feriado        </td><td>2012               </td><td>out                </td><td>2                  </td><td>12                 </td><td>40                 </td><td>2012-10-02         </td><td>ter                </td></tr>\n",
       "\t<tr><td>2012-10-02 13:00:00</td><td>4918               </td><td>Nao_feriado        </td><td>2012               </td><td>out                </td><td>2                  </td><td>13                 </td><td>40                 </td><td>2012-10-02         </td><td>ter                </td></tr>\n",
       "\t<tr><td>2012-10-02 14:00:00</td><td>5181               </td><td>Nao_feriado        </td><td>2012               </td><td>out                </td><td>2                  </td><td>14                 </td><td>40                 </td><td>2012-10-02         </td><td>ter                </td></tr>\n",
       "</tbody>\n",
       "</table>\n"
      ],
      "text/latex": [
       "\\begin{tabular}{r|llllllllll}\n",
       " date\\_time & traffic\\_volume & holiday & ano & mes & dia & hora & semana & data & dia\\_da\\_semana\\\\\n",
       "\\hline\n",
       "\t 2012-10-02 09:00:00 & 5545                & Nao\\_feriado       & 2012                & out                 & 2                   & 9                   & 40                  & 2012-10-02          & ter                \\\\\n",
       "\t 2012-10-02 10:00:00 & 4516                & Nao\\_feriado       & 2012                & out                 & 2                   & 10                  & 40                  & 2012-10-02          & ter                \\\\\n",
       "\t 2012-10-02 11:00:00 & 4767                & Nao\\_feriado       & 2012                & out                 & 2                   & 11                  & 40                  & 2012-10-02          & ter                \\\\\n",
       "\t 2012-10-02 12:00:00 & 5026                & Nao\\_feriado       & 2012                & out                 & 2                   & 12                  & 40                  & 2012-10-02          & ter                \\\\\n",
       "\t 2012-10-02 13:00:00 & 4918                & Nao\\_feriado       & 2012                & out                 & 2                   & 13                  & 40                  & 2012-10-02          & ter                \\\\\n",
       "\t 2012-10-02 14:00:00 & 5181                & Nao\\_feriado       & 2012                & out                 & 2                   & 14                  & 40                  & 2012-10-02          & ter                \\\\\n",
       "\\end{tabular}\n"
      ],
      "text/markdown": [
       "\n",
       "| date_time | traffic_volume | holiday | ano | mes | dia | hora | semana | data | dia_da_semana |\n",
       "|---|---|---|---|---|---|---|---|---|---|\n",
       "| 2012-10-02 09:00:00 | 5545                | Nao_feriado         | 2012                | out                 | 2                   | 9                   | 40                  | 2012-10-02          | ter                 |\n",
       "| 2012-10-02 10:00:00 | 4516                | Nao_feriado         | 2012                | out                 | 2                   | 10                  | 40                  | 2012-10-02          | ter                 |\n",
       "| 2012-10-02 11:00:00 | 4767                | Nao_feriado         | 2012                | out                 | 2                   | 11                  | 40                  | 2012-10-02          | ter                 |\n",
       "| 2012-10-02 12:00:00 | 5026                | Nao_feriado         | 2012                | out                 | 2                   | 12                  | 40                  | 2012-10-02          | ter                 |\n",
       "| 2012-10-02 13:00:00 | 4918                | Nao_feriado         | 2012                | out                 | 2                   | 13                  | 40                  | 2012-10-02          | ter                 |\n",
       "| 2012-10-02 14:00:00 | 5181                | Nao_feriado         | 2012                | out                 | 2                   | 14                  | 40                  | 2012-10-02          | ter                 |\n",
       "\n"
      ],
      "text/plain": [
       "  date_time           traffic_volume holiday     ano  mes dia hora semana\n",
       "1 2012-10-02 09:00:00 5545           Nao_feriado 2012 out 2   9    40    \n",
       "2 2012-10-02 10:00:00 4516           Nao_feriado 2012 out 2   10   40    \n",
       "3 2012-10-02 11:00:00 4767           Nao_feriado 2012 out 2   11   40    \n",
       "4 2012-10-02 12:00:00 5026           Nao_feriado 2012 out 2   12   40    \n",
       "5 2012-10-02 13:00:00 4918           Nao_feriado 2012 out 2   13   40    \n",
       "6 2012-10-02 14:00:00 5181           Nao_feriado 2012 out 2   14   40    \n",
       "  data       dia_da_semana\n",
       "1 2012-10-02 ter          \n",
       "2 2012-10-02 ter          \n",
       "3 2012-10-02 ter          \n",
       "4 2012-10-02 ter          \n",
       "5 2012-10-02 ter          \n",
       "6 2012-10-02 ter          "
      ]
     },
     "metadata": {},
     "output_type": "display_data"
    }
   ],
   "source": [
    "dados_no_feriado <- dados %>%\n",
    "    filter(holiday ==\"Nao_feriado\")\n",
    "   \n",
    "\n",
    "head(dados_no_feriado)"
   ]
  },
  {
   "cell_type": "code",
   "execution_count": 12,
   "metadata": {},
   "outputs": [
    {
     "data": {
      "text/html": [
       "<table>\n",
       "<thead><tr><th scope=col>date_time</th><th scope=col>traffic_volume</th><th scope=col>holiday</th><th scope=col>ano</th><th scope=col>mes</th><th scope=col>dia</th><th scope=col>hora</th><th scope=col>semana</th><th scope=col>data</th><th scope=col>dia_da_semana</th></tr></thead>\n",
       "<tbody>\n",
       "\t<tr><td>2012-10-08</td><td> 455      </td><td>Feriado   </td><td>2012      </td><td>out       </td><td> 8        </td><td>0         </td><td>41        </td><td>2012-10-08</td><td>seg       </td></tr>\n",
       "\t<tr><td>2012-11-12</td><td>1000      </td><td>Feriado   </td><td>2012      </td><td>nov       </td><td>12        </td><td>0         </td><td>46        </td><td>2012-11-12</td><td>seg       </td></tr>\n",
       "\t<tr><td>2012-11-22</td><td> 919      </td><td>Feriado   </td><td>2012      </td><td>nov       </td><td>22        </td><td>0         </td><td>47        </td><td>2012-11-22</td><td>qui       </td></tr>\n",
       "\t<tr><td>2012-12-25</td><td> 803      </td><td>Feriado   </td><td>2012      </td><td>dez       </td><td>25        </td><td>0         </td><td>52        </td><td>2012-12-25</td><td>ter       </td></tr>\n",
       "\t<tr><td>2013-01-01</td><td>1439      </td><td>Feriado   </td><td>2013      </td><td>jan       </td><td> 1        </td><td>0         </td><td> 1        </td><td>2013-01-01</td><td>ter       </td></tr>\n",
       "\t<tr><td>2013-02-18</td><td> 556      </td><td>Feriado   </td><td>2013      </td><td>fev       </td><td>18        </td><td>0         </td><td> 7        </td><td>2013-02-18</td><td>seg       </td></tr>\n",
       "</tbody>\n",
       "</table>\n"
      ],
      "text/latex": [
       "\\begin{tabular}{r|llllllllll}\n",
       " date\\_time & traffic\\_volume & holiday & ano & mes & dia & hora & semana & data & dia\\_da\\_semana\\\\\n",
       "\\hline\n",
       "\t 2012-10-08 &  455       & Feriado    & 2012       & out        &  8         & 0          & 41         & 2012-10-08 & seg       \\\\\n",
       "\t 2012-11-12 & 1000       & Feriado    & 2012       & nov        & 12         & 0          & 46         & 2012-11-12 & seg       \\\\\n",
       "\t 2012-11-22 &  919       & Feriado    & 2012       & nov        & 22         & 0          & 47         & 2012-11-22 & qui       \\\\\n",
       "\t 2012-12-25 &  803       & Feriado    & 2012       & dez        & 25         & 0          & 52         & 2012-12-25 & ter       \\\\\n",
       "\t 2013-01-01 & 1439       & Feriado    & 2013       & jan        &  1         & 0          &  1         & 2013-01-01 & ter       \\\\\n",
       "\t 2013-02-18 &  556       & Feriado    & 2013       & fev        & 18         & 0          &  7         & 2013-02-18 & seg       \\\\\n",
       "\\end{tabular}\n"
      ],
      "text/markdown": [
       "\n",
       "| date_time | traffic_volume | holiday | ano | mes | dia | hora | semana | data | dia_da_semana |\n",
       "|---|---|---|---|---|---|---|---|---|---|\n",
       "| 2012-10-08 |  455       | Feriado    | 2012       | out        |  8         | 0          | 41         | 2012-10-08 | seg        |\n",
       "| 2012-11-12 | 1000       | Feriado    | 2012       | nov        | 12         | 0          | 46         | 2012-11-12 | seg        |\n",
       "| 2012-11-22 |  919       | Feriado    | 2012       | nov        | 22         | 0          | 47         | 2012-11-22 | qui        |\n",
       "| 2012-12-25 |  803       | Feriado    | 2012       | dez        | 25         | 0          | 52         | 2012-12-25 | ter        |\n",
       "| 2013-01-01 | 1439       | Feriado    | 2013       | jan        |  1         | 0          |  1         | 2013-01-01 | ter        |\n",
       "| 2013-02-18 |  556       | Feriado    | 2013       | fev        | 18         | 0          |  7         | 2013-02-18 | seg        |\n",
       "\n"
      ],
      "text/plain": [
       "  date_time  traffic_volume holiday ano  mes dia hora semana data      \n",
       "1 2012-10-08  455           Feriado 2012 out  8  0    41     2012-10-08\n",
       "2 2012-11-12 1000           Feriado 2012 nov 12  0    46     2012-11-12\n",
       "3 2012-11-22  919           Feriado 2012 nov 22  0    47     2012-11-22\n",
       "4 2012-12-25  803           Feriado 2012 dez 25  0    52     2012-12-25\n",
       "5 2013-01-01 1439           Feriado 2013 jan  1  0     1     2013-01-01\n",
       "6 2013-02-18  556           Feriado 2013 fev 18  0     7     2013-02-18\n",
       "  dia_da_semana\n",
       "1 seg          \n",
       "2 seg          \n",
       "3 qui          \n",
       "4 ter          \n",
       "5 ter          \n",
       "6 seg          "
      ]
     },
     "metadata": {},
     "output_type": "display_data"
    }
   ],
   "source": [
    "dados_feriado <- dados %>%\n",
    "    filter(holiday ==\"Feriado\")\n",
    "    \n",
    "\n",
    "head(dados_feriado)"
   ]
  },
  {
   "cell_type": "code",
   "execution_count": 13,
   "metadata": {},
   "outputs": [
    {
     "data": {
      "text/html": [
       "<table>\n",
       "<thead><tr><th scope=col>date_time</th><th scope=col>traffic_volume</th><th scope=col>holiday</th><th scope=col>ano</th><th scope=col>mes</th><th scope=col>dia</th><th scope=col>hora</th><th scope=col>semana</th><th scope=col>data</th><th scope=col>dia_da_semana</th></tr></thead>\n",
       "<tbody>\n",
       "\t<tr><td>2012-10-02 09:00:00</td><td>5545               </td><td>Nao_feriado        </td><td>2012               </td><td>out                </td><td>2                  </td><td>9                  </td><td>40                 </td><td>2012-10-02         </td><td>ter                </td></tr>\n",
       "\t<tr><td>2012-10-02 10:00:00</td><td>4516               </td><td>Nao_feriado        </td><td>2012               </td><td>out                </td><td>2                  </td><td>10                 </td><td>40                 </td><td>2012-10-02         </td><td>ter                </td></tr>\n",
       "\t<tr><td>2012-10-02 11:00:00</td><td>4767               </td><td>Nao_feriado        </td><td>2012               </td><td>out                </td><td>2                  </td><td>11                 </td><td>40                 </td><td>2012-10-02         </td><td>ter                </td></tr>\n",
       "\t<tr><td>2012-10-02 12:00:00</td><td>5026               </td><td>Nao_feriado        </td><td>2012               </td><td>out                </td><td>2                  </td><td>12                 </td><td>40                 </td><td>2012-10-02         </td><td>ter                </td></tr>\n",
       "\t<tr><td>2012-10-02 13:00:00</td><td>4918               </td><td>Nao_feriado        </td><td>2012               </td><td>out                </td><td>2                  </td><td>13                 </td><td>40                 </td><td>2012-10-02         </td><td>ter                </td></tr>\n",
       "\t<tr><td>2012-10-02 14:00:00</td><td>5181               </td><td>Nao_feriado        </td><td>2012               </td><td>out                </td><td>2                  </td><td>14                 </td><td>40                 </td><td>2012-10-02         </td><td>ter                </td></tr>\n",
       "</tbody>\n",
       "</table>\n"
      ],
      "text/latex": [
       "\\begin{tabular}{r|llllllllll}\n",
       " date\\_time & traffic\\_volume & holiday & ano & mes & dia & hora & semana & data & dia\\_da\\_semana\\\\\n",
       "\\hline\n",
       "\t 2012-10-02 09:00:00 & 5545                & Nao\\_feriado       & 2012                & out                 & 2                   & 9                   & 40                  & 2012-10-02          & ter                \\\\\n",
       "\t 2012-10-02 10:00:00 & 4516                & Nao\\_feriado       & 2012                & out                 & 2                   & 10                  & 40                  & 2012-10-02          & ter                \\\\\n",
       "\t 2012-10-02 11:00:00 & 4767                & Nao\\_feriado       & 2012                & out                 & 2                   & 11                  & 40                  & 2012-10-02          & ter                \\\\\n",
       "\t 2012-10-02 12:00:00 & 5026                & Nao\\_feriado       & 2012                & out                 & 2                   & 12                  & 40                  & 2012-10-02          & ter                \\\\\n",
       "\t 2012-10-02 13:00:00 & 4918                & Nao\\_feriado       & 2012                & out                 & 2                   & 13                  & 40                  & 2012-10-02          & ter                \\\\\n",
       "\t 2012-10-02 14:00:00 & 5181                & Nao\\_feriado       & 2012                & out                 & 2                   & 14                  & 40                  & 2012-10-02          & ter                \\\\\n",
       "\\end{tabular}\n"
      ],
      "text/markdown": [
       "\n",
       "| date_time | traffic_volume | holiday | ano | mes | dia | hora | semana | data | dia_da_semana |\n",
       "|---|---|---|---|---|---|---|---|---|---|\n",
       "| 2012-10-02 09:00:00 | 5545                | Nao_feriado         | 2012                | out                 | 2                   | 9                   | 40                  | 2012-10-02          | ter                 |\n",
       "| 2012-10-02 10:00:00 | 4516                | Nao_feriado         | 2012                | out                 | 2                   | 10                  | 40                  | 2012-10-02          | ter                 |\n",
       "| 2012-10-02 11:00:00 | 4767                | Nao_feriado         | 2012                | out                 | 2                   | 11                  | 40                  | 2012-10-02          | ter                 |\n",
       "| 2012-10-02 12:00:00 | 5026                | Nao_feriado         | 2012                | out                 | 2                   | 12                  | 40                  | 2012-10-02          | ter                 |\n",
       "| 2012-10-02 13:00:00 | 4918                | Nao_feriado         | 2012                | out                 | 2                   | 13                  | 40                  | 2012-10-02          | ter                 |\n",
       "| 2012-10-02 14:00:00 | 5181                | Nao_feriado         | 2012                | out                 | 2                   | 14                  | 40                  | 2012-10-02          | ter                 |\n",
       "\n"
      ],
      "text/plain": [
       "  date_time           traffic_volume holiday     ano  mes dia hora semana\n",
       "1 2012-10-02 09:00:00 5545           Nao_feriado 2012 out 2   9    40    \n",
       "2 2012-10-02 10:00:00 4516           Nao_feriado 2012 out 2   10   40    \n",
       "3 2012-10-02 11:00:00 4767           Nao_feriado 2012 out 2   11   40    \n",
       "4 2012-10-02 12:00:00 5026           Nao_feriado 2012 out 2   12   40    \n",
       "5 2012-10-02 13:00:00 4918           Nao_feriado 2012 out 2   13   40    \n",
       "6 2012-10-02 14:00:00 5181           Nao_feriado 2012 out 2   14   40    \n",
       "  data       dia_da_semana\n",
       "1 2012-10-02 ter          \n",
       "2 2012-10-02 ter          \n",
       "3 2012-10-02 ter          \n",
       "4 2012-10-02 ter          \n",
       "5 2012-10-02 ter          \n",
       "6 2012-10-02 ter          "
      ]
     },
     "metadata": {},
     "output_type": "display_data"
    },
    {
     "name": "stdout",
     "output_type": "stream",
     "text": [
      "tibble [48,143 x 10] (S3: tbl_df/tbl/data.frame)\n",
      " $ date_time     : POSIXct[1:48143], format: \"2012-10-02 09:00:00\" \"2012-10-02 10:00:00\" ...\n",
      " $ traffic_volume: num [1:48143] 5545 4516 4767 5026 4918 ...\n",
      " $ holiday       : chr [1:48143] \"Nao_feriado\" \"Nao_feriado\" \"Nao_feriado\" \"Nao_feriado\" ...\n",
      " $ ano           : num [1:48143] 2012 2012 2012 2012 2012 ...\n",
      " $ mes           : Ord.factor w/ 12 levels \"jan\"<\"fev\"<\"mar\"<..: 10 10 10 10 10 10 10 10 10 10 ...\n",
      " $ dia           : int [1:48143] 2 2 2 2 2 2 2 2 2 2 ...\n",
      " $ hora          : Factor w/ 24 levels \"0\",\"1\",\"2\",\"3\",..: 10 11 12 13 14 15 16 17 18 19 ...\n",
      " $ semana        : num [1:48143] 40 40 40 40 40 40 40 40 40 40 ...\n",
      " $ data          : Date[1:48143], format: \"2012-10-02\" \"2012-10-02\" ...\n",
      " $ dia_da_semana : Ord.factor w/ 7 levels \"dom\"<\"seg\"<\"ter\"<..: 3 3 3 3 3 3 3 3 3 3 ...\n"
     ]
    }
   ],
   "source": [
    "# Vamos criar novas colunas para ano, mês, dia da semana, hora e etc na base Dados_no_feriado\n",
    "\n",
    "\n",
    "dados_no_feriado$ano <-year(dados_no_feriado$date_time)\n",
    "dados_no_feriado$mes <-as.factor(month(dados_no_feriado$date_time,  label = TRUE))\n",
    "dados_no_feriado$dia <-day(dados_no_feriado$date_time)\n",
    "dados_no_feriado$hora <-as.factor(hour(dados_no_feriado$date_time))\n",
    "dados_no_feriado$semana <-week(dados_no_feriado$date_time)\n",
    "dados_no_feriado$data <- date(dados_no_feriado$date_time)\n",
    "dados_no_feriado$dia_da_semana <- as.factor(wday(dados_no_feriado$date_time, label = TRUE))\n",
    "\n",
    "head(dados_no_feriado)\n",
    "str(dados_no_feriado)\n"
   ]
  },
  {
   "cell_type": "code",
   "execution_count": 16,
   "metadata": {},
   "outputs": [
    {
     "name": "stderr",
     "output_type": "stream",
     "text": [
      "`summarise()` ungrouping output (override with `.groups` argument)\n"
     ]
    },
    {
     "data": {
      "text/html": [
       "<table>\n",
       "<thead><tr><th scope=col>holiday</th><th scope=col>media_trafego</th><th scope=col>minimo_trafego</th><th scope=col>maximo_trafego</th><th scope=col>desvio_padrao</th><th scope=col>Total</th></tr></thead>\n",
       "<tbody>\n",
       "\t<tr><td>Feriado    </td><td> 865.4426  </td><td>455        </td><td>1538       </td><td> 291.029   </td><td>   61      </td></tr>\n",
       "\t<tr><td>Nao_feriado</td><td>3262.8522  </td><td>  0        </td><td>7280       </td><td>1986.262   </td><td>48143      </td></tr>\n",
       "</tbody>\n",
       "</table>\n"
      ],
      "text/latex": [
       "\\begin{tabular}{r|llllll}\n",
       " holiday & media\\_trafego & minimo\\_trafego & maximo\\_trafego & desvio\\_padrao & Total\\\\\n",
       "\\hline\n",
       "\t Feriado     &  865.4426   & 455         & 1538        &  291.029    &    61      \\\\\n",
       "\t Nao\\_feriado & 3262.8522     &   0           & 7280          & 1986.262      & 48143        \\\\\n",
       "\\end{tabular}\n"
      ],
      "text/markdown": [
       "\n",
       "| holiday | media_trafego | minimo_trafego | maximo_trafego | desvio_padrao | Total |\n",
       "|---|---|---|---|---|---|\n",
       "| Feriado     |  865.4426   | 455         | 1538        |  291.029    |    61       |\n",
       "| Nao_feriado | 3262.8522   |   0         | 7280        | 1986.262    | 48143       |\n",
       "\n"
      ],
      "text/plain": [
       "  holiday     media_trafego minimo_trafego maximo_trafego desvio_padrao Total\n",
       "1 Feriado      865.4426     455            1538            291.029         61\n",
       "2 Nao_feriado 3262.8522       0            7280           1986.262      48143"
      ]
     },
     "metadata": {},
     "output_type": "display_data"
    },
    {
     "data": {
      "text/html": [
       "<ol class=list-inline>\n",
       "\t<li>'tbl_df'</li>\n",
       "\t<li>'tbl'</li>\n",
       "\t<li>'data.frame'</li>\n",
       "</ol>\n"
      ],
      "text/latex": [
       "\\begin{enumerate*}\n",
       "\\item 'tbl\\_df'\n",
       "\\item 'tbl'\n",
       "\\item 'data.frame'\n",
       "\\end{enumerate*}\n"
      ],
      "text/markdown": [
       "1. 'tbl_df'\n",
       "2. 'tbl'\n",
       "3. 'data.frame'\n",
       "\n",
       "\n"
      ],
      "text/plain": [
       "[1] \"tbl_df\"     \"tbl\"        \"data.frame\""
      ]
     },
     "metadata": {},
     "output_type": "display_data"
    }
   ],
   "source": [
    "# analisando os dados por feriado\n",
    "dados %>%\n",
    "    group_by(holiday)%>%\n",
    "    summarise(media_trafego = mean(traffic_volume),\n",
    "              minimo_trafego = min(traffic_volume),\n",
    "              maximo_trafego = max(traffic_volume),\n",
    "              desvio_padrao = sd(traffic_volume),\n",
    "              Total = n())\n",
    "class(dados)"
   ]
  },
  {
   "cell_type": "markdown",
   "metadata": {},
   "source": [
    "> #### Visualização dos dados em gráfico"
   ]
  },
  {
   "cell_type": "code",
   "execution_count": 19,
   "metadata": {},
   "outputs": [
    {
     "data": {
      "image/png": "[encoded data removed]",
      "text/plain": [
       "plot without title"
      ]
     },
     "metadata": {},
     "output_type": "display_data"
    }
   ],
   "source": [
    "# Plotando um gráfico\n",
    "\n",
    "ggplot(dados, aes(x = traffic_volume)) +\n",
    "    geom_density(aes(fill = holiday))+\n",
    "    ggtitle(\" Volume de Tráfego Mensal - Sem feriados\")+\n",
    "    ylab('Densidade')+\n",
    "    xlab('Volume')+\n",
    "    facet_grid(rows=vars(as.factor(holiday)))\n"
   ]
  },
  {
   "cell_type": "markdown",
   "metadata": {},
   "source": [
    "> ##### Neste pequene exercício percebemos que o fuxo possui alta densidade de tráfego de veículos nos dias de semana se segunda a sexta, onde o volume diminui consideravelmente no sabado e domingo. E isto apenas nos dias que não são feriados."
   ]
  }
 ],
 "metadata": {
  "kernelspec": {
   "display_name": "R",
   "language": "R",
   "name": "ir"
  },
  "language_info": {
   "codemirror_mode": "r",
   "file_extension": ".r",
   "mimetype": "text/x-r-source",
   "name": "R",
   "pygments_lexer": "r",
   "version": "3.6.1"
  }
 },
 "nbformat": 4,
 "nbformat_minor": 4
}
